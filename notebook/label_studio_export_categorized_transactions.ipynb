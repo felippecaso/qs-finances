{
 "cells": [
  {
   "cell_type": "code",
   "execution_count": null,
   "metadata": {},
   "outputs": [],
   "source": [
    "import json\n",
    "import os\n",
    "\n",
    "\n",
    "# List of dictionaries returned from your method\n",
    "dict_list = project.export_tasks()\n",
    "\n",
    "# Path to the output folder\n",
    "output_folder = f'{os.environ[\"MELTANO_PROJECT_ROOT\"]}/data/label-studio/output/'\n",
    "\n",
    "# Create the output folder if it doesn't exist\n",
    "if not os.path.exists(output_folder):\n",
    "    os.makedirs(output_folder)\n",
    "\n",
    "# Path to the output file\n",
    "output_file = os.path.join(output_folder, 'categorized_transactions.jsonl')\n",
    "\n",
    "# Write the list of dictionaries to the output file as a JSONL file\n",
    "with open(output_file, 'w') as f:\n",
    "    for d in dict_list:\n",
    "        json.dump(d, f, indent=None, separators=(',', ':'))\n",
    "        f.write('\\n')"
   ]
  }
 ],
 "metadata": {
  "language_info": {
   "name": "python"
  },
  "orig_nbformat": 4
 },
 "nbformat": 4,
 "nbformat_minor": 2
}
