{
 "cells": [
  {
   "cell_type": "code",
   "execution_count": null,
   "metadata": {
    "tags": []
   },
   "outputs": [],
   "source": [
    "import os\n",
    "\n",
    "\n",
    "LABEL_STUDIO_URL = 'http://localhost:8080'\n",
    "API_KEY = os.environ['LABEL_STUDIO_API_KEY']\n",
    "\n",
    "# Import the SDK and the client module\n",
    "from label_studio_sdk import Client\n",
    "\n",
    "# Connect to the Label Studio API and check the connection\n",
    "ls = Client(url=LABEL_STUDIO_URL, api_key=API_KEY)\n",
    "ls.check_connection()"
   ]
  },
  {
   "cell_type": "code",
   "execution_count": 5,
   "metadata": {
    "tags": []
   },
   "outputs": [],
   "source": [
    "# Get Project ID for the project created in setup\n",
    "project_id = next((x.id for x in ls.get_projects() if x.title == 'Financial Transactions Categorizer'), None)\n",
    "project = ls.get_project(project_id)"
   ]
  },
  {
   "cell_type": "code",
   "execution_count": null,
   "metadata": {
    "tags": []
   },
   "outputs": [],
   "source": [
    "# delete all previous tasks\n",
    "# project.delete_all_tasks()\n",
    "\n",
    "# import file with transactions to categorize\n",
    "# project.import_tasks(f'{os.environ[\"MELTANO_PROJECT_ROOT\"]}/data/catalog/transactions.csv')"
   ]
  }
 ],
 "metadata": {
  "kernelspec": {
   "display_name": "Python 3 (ipykernel)",
   "language": "python",
   "name": "python3"
  },
  "language_info": {
   "codemirror_mode": {
    "name": "ipython",
    "version": 3
   },
   "file_extension": ".py",
   "mimetype": "text/x-python",
   "name": "python",
   "nbconvert_exporter": "python",
   "pygments_lexer": "ipython3",
   "version": "3.9.13"
  }
 },
 "nbformat": 4,
 "nbformat_minor": 4
}
