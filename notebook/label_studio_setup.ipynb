{
 "cells": [
  {
   "cell_type": "code",
   "execution_count": null,
   "metadata": {},
   "outputs": [],
   "source": [
    "import csv\n",
    "\n",
    "\n",
    "def generate_xml_config(categories_file_path: str) -> str:\n",
    "\n",
    "    with open(categories_file_path) as csvfile:\n",
    "        reader = csv.reader(csvfile)\n",
    "        labels = []\n",
    "        for row in reader:\n",
    "            label = f'<Choice value=\"{row[0]}\" />'\n",
    "            labels.append(label)\n",
    "\n",
    "        return f'''\n",
    "            <View style=\"display: flex;\">\n",
    "                <View style=\"width: 350px; padding-right: 1em; overflow-y: auto\">\n",
    "                    <Filter name=\"categories_filter\" toName=\"categories_list\" hotkey=\"shift+f\" minlength=\"1\" />\n",
    "                    <Choices name=\"categories_list\" toName=\"description\">\n",
    "                        {''.join(labels)}\n",
    "                    </Choices>\n",
    "                </View>\n",
    "\n",
    "                <View>\n",
    "                    <Text name=\"description\" value=\"Description: $description\" />\n",
    "                    <Text name=\"date\" value=\"$date\" />\n",
    "                    <Text name=\"amount\" value=\"$amount\" />\n",
    "                    <Text name=\"account\" value=\"$account\" />\n",
    "                </View>\n",
    "            </View>\n",
    "            '''"
   ]
  },
  {
   "cell_type": "code",
   "execution_count": null,
   "metadata": {},
   "outputs": [],
   "source": [
    "import os\n",
    "\n",
    "\n",
    "LABEL_STUDIO_URL = 'http://localhost:8080'\n",
    "API_KEY = os.environ['LABEL_STUDIO_API_KEY']\n",
    "\n",
    "# Import the SDK and the client module\n",
    "from label_studio_sdk import Client\n",
    "\n",
    "# Connect to the Label Studio API and check the connection\n",
    "ls = Client(url=LABEL_STUDIO_URL, api_key=API_KEY)\n",
    "ls.check_connection()\n",
    "\n",
    "# Set up project and labeling interface\n",
    "project = ls.start_project(\n",
    "    title='Financial Transactions Categorizer',\n",
    "    label_config=generate_xml_config(f'{os.environ[\"MELTANO_PROJECT_ROOT\"]}/input/finances_categories.csv')\n",
    ")\n",
    "\n",
    "# import file with transactions to categorize\n",
    "project.import_tasks(f'{os.environ[\"MELTANO_PROJECT_ROOT\"]}/data/catalog/transactions.csv')\n",
    "\n",
    "\n",
    "# ls.delete_all_projects()"
   ]
  }
 ],
 "metadata": {
  "kernelspec": {
   "display_name": "Python 3 (ipykernel)",
   "language": "python",
   "name": "python3"
  },
  "language_info": {
   "codemirror_mode": {
    "name": "ipython",
    "version": 3
   },
   "file_extension": ".py",
   "mimetype": "text/x-python",
   "name": "python",
   "nbconvert_exporter": "python",
   "pygments_lexer": "ipython3",
   "version": "3.9.13"
  }
 },
 "nbformat": 4,
 "nbformat_minor": 4
}
